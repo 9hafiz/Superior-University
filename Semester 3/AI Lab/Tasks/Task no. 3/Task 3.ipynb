{
 "cells": [
  {
   "cell_type": "markdown",
   "metadata": {},
   "source": [
    "# Simple Reflex Agent :"
   ]
  },
  {
   "cell_type": "code",
   "execution_count": 1,
   "metadata": {},
   "outputs": [
    {
     "name": "stdout",
     "output_type": "stream",
     "text": [
      "Living Room: Current temperature => 18°C. Turn on heater.\n",
      "Bed Room: Current temperature => 22°C. Turn off heater.\n",
      "Kitchen: Current temperature => 20°C. Turn on heater.\n",
      "Drawing Room: Current temperature => 21°C. Turn on heater.\n"
     ]
    }
   ],
   "source": [
    "class SimpleReflexAgent:\n",
    "    def __init__(self, desired_temperature):\n",
    "        self.desired_temperature = desired_temperature \n",
    "    def perceive(self, current_temperature):\n",
    "        return current_temperature\n",
    "    def act(self, current_temperature):\n",
    "        if current_temperature < self.desired_temperature:\n",
    "            action = \"Turn on heater\"\n",
    "        else:\n",
    "            action = \"Turn off heater\"\n",
    "        return action\n",
    "rooms = {\n",
    "    \"Living Room\": 18,\n",
    "    \"Bed Room\": 22,\n",
    "    \"Kitchen\": 20,\n",
    "    \"Drawing Room\": 21\n",
    "}\n",
    "desired_temperature = 22\n",
    "agent = SimpleReflexAgent(desired_temperature)\n",
    "for room, temperature in rooms.items():\n",
    "    action = agent.act(temperature)\n",
    "    print(f\"{room}: Current temperature => {temperature}°C. {action}.\")"
   ]
  },
  {
   "cell_type": "markdown",
   "metadata": {},
   "source": [
    "# Model Reflex Agent :"
   ]
  },
  {
   "cell_type": "code",
   "execution_count": 2,
   "metadata": {},
   "outputs": [
    {
     "name": "stdout",
     "output_type": "stream",
     "text": [
      "Living Room: Current temperature => 18°C. Turn on heater.\n",
      "Bedroom: Current temperature => 22°C. Turn off heater.\n",
      "Kitchen: Current temperature => 20°C. Turn on heater.\n",
      "Drawing Room: Current temperature => 21°C. No action needed.\n"
     ]
    }
   ],
   "source": [
    "class ModelReflexAgent:\n",
    "    def __init__(self, desired_temperature):\n",
    "        self.desired_temperature = desired_temperature\n",
    "        self.heater_on = False\n",
    "    def check_temp(self, current_temp):\n",
    "        if current_temp < self.desired_temperature and not self.heater_on:\n",
    "            return \"Turn on heater\"\n",
    "        elif current_temp >= self.desired_temperature and self.heater_on:\n",
    "            return \"Turn off heater\"\n",
    "        else:\n",
    "            return \"No action needed\"\n",
    "    def update_heater(self, action):\n",
    "        if action == \"Turn on heater\":\n",
    "            self.heater_on = True\n",
    "        elif action == \"Turn off heater\":\n",
    "            self.heater_on = False\n",
    "rooms = {\n",
    "    \"Living Room\": 18,\n",
    "    \"Bedroom\": 22,\n",
    "    \"Kitchen\": 20,\n",
    "    \"Drawing Room\": 21\n",
    "}\n",
    "desired_temp = 22\n",
    "agent = ModelReflexAgent(desired_temp)\n",
    "for room, temp in rooms.items():\n",
    "    action = agent.check_temp(temp)\n",
    "    agent.update_heater(action)\n",
    "    print(f\"{room}: Current temperature => {temp}°C. {action}.\")"
   ]
  }
 ],
 "metadata": {
  "kernelspec": {
   "display_name": "Python 3",
   "language": "python",
   "name": "python3"
  },
  "language_info": {
   "codemirror_mode": {
    "name": "ipython",
    "version": 3
   },
   "file_extension": ".py",
   "mimetype": "text/x-python",
   "name": "python",
   "nbconvert_exporter": "python",
   "pygments_lexer": "ipython3",
   "version": "3.12.5"
  }
 },
 "nbformat": 4,
 "nbformat_minor": 2
}
