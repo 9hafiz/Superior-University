{
 "cells": [
  {
   "cell_type": "markdown",
   "metadata": {},
   "source": [
    "# Sort Text in Alphabetical Order :"
   ]
  },
  {
   "cell_type": "code",
   "execution_count": 2,
   "metadata": {},
   "outputs": [
    {
     "name": "stdout",
     "output_type": "stream",
     "text": [
      "Original sentence: The quick brown fox jumps over the lazy dog\n",
      "Sorted sentence: brown dog fox jumps lazy over quick the the\n"
     ]
    }
   ],
   "source": [
    "def alphabetical_sort(input_string):\n",
    "    words = input_string.lower().split()\n",
    "    n = len(words)\n",
    "    for i in range(n):\n",
    "        for j in range(0, n-i-1):\n",
    "            if words[j] > words[j+1]:\n",
    "                words[j], words[j+1] = words[j+1], words[j]\n",
    "    \n",
    "    return ' '.join(words)\n",
    "test_sentence = \"The quick brown fox jumps over the lazy dog\"\n",
    "print(f\"Original sentence: {test_sentence}\")\n",
    "print(f\"Sorted sentence: {alphabetical_sort(test_sentence)}\")"
   ]
  },
  {
   "cell_type": "code",
   "execution_count": null,
   "metadata": {},
   "outputs": [],
   "source": []
  }
 ],
 "metadata": {
  "kernelspec": {
   "display_name": "Python 3",
   "language": "python",
   "name": "python3"
  },
  "language_info": {
   "codemirror_mode": {
    "name": "ipython",
    "version": 3
   },
   "file_extension": ".py",
   "mimetype": "text/x-python",
   "name": "python",
   "nbconvert_exporter": "python",
   "pygments_lexer": "ipython3",
   "version": "3.12.3"
  }
 },
 "nbformat": 4,
 "nbformat_minor": 2
}
