{
 "cells": [
  {
   "cell_type": "markdown",
   "metadata": {},
   "source": [
    "Remove Punctuations from UserInput String (without using remove function)"
   ]
  },
  {
   "cell_type": "code",
   "execution_count": 3,
   "metadata": {},
   "outputs": [
    {
     "name": "stdout",
     "output_type": "stream",
     "text": [
      "Original string: Hello, World! How are you doing today? It's a nice day, isn't it?\n",
      "String without punctuation: Hello World How are you doing today Its a nice day isnt it\n"
     ]
    }
   ],
   "source": [
    "import string\n",
    "\n",
    "def remove_punctuation(input_string):\n",
    "    \"\"\"\n",
    "    Remove punctuation from a string.\n",
    "\n",
    "    Args:\n",
    "    input_string (str): The input string.\n",
    "\n",
    "    Returns:\n",
    "    str: The string without punctuation.\n",
    "    \"\"\"\n",
    "    return ''.join([char for char in input_string if char not in string.punctuation])\n",
    "\n",
    "\n",
    "test_string = \"Hello, World! How are you doing today? It's a nice day, isn't it?\"\n",
    "print(f\"Original string: {test_string}\")\n",
    "print(f\"String without punctuation: {remove_punctuation(test_string)}\")"
   ]
  }
 ],
 "metadata": {
  "kernelspec": {
   "display_name": "Python 3",
   "language": "python",
   "name": "python3"
  },
  "language_info": {
   "codemirror_mode": {
    "name": "ipython",
    "version": 3
   },
   "file_extension": ".py",
   "mimetype": "text/x-python",
   "name": "python",
   "nbconvert_exporter": "python",
   "pygments_lexer": "ipython3",
   "version": "3.12.3"
  }
 },
 "nbformat": 4,
 "nbformat_minor": 2
}
