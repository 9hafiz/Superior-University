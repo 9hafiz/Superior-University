{
 "cells": [
  {
   "cell_type": "markdown",
   "metadata": {},
   "source": [
    "Luhn Algorithm"
   ]
  },
  {
   "cell_type": "code",
   "execution_count": 1,
   "metadata": {},
   "outputs": [
    {
     "name": "stdout",
     "output_type": "stream",
     "text": [
      "Is 1234567891364658 valid? False\n"
     ]
    }
   ],
   "source": [
    "def luhn_algorithm(card_number):\n",
    "    def digits_of(n):\n",
    "        return [int(d) for d in str(n)]\n",
    "    \n",
    "    digits = digits_of(card_number)\n",
    "    odd_digits = digits[-1::-2]\n",
    "    even_digits = digits[-2::-2]\n",
    "    checksum = 0\n",
    "    checksum += sum(odd_digits)\n",
    "    for d in even_digits:\n",
    "        checksum += sum(digits_of(d*2))\n",
    "    return checksum % 10 == 0\n",
    "\n",
    "def get_card_number():\n",
    "    while True:\n",
    "        try:\n",
    "            card_number = input(\"Please enter a card number to validate: \")\n",
    "            if not card_number.isdigit():\n",
    "                raise ValueError(\"Card number should only contain digits.\")\n",
    "            if len(card_number) < 13 or len(card_number) > 19:\n",
    "                raise ValueError(\"Card number should be between 13 and 19 digits long.\")\n",
    "            return int(card_number)\n",
    "        except ValueError as e:\n",
    "            print(f\"Invalid input: {e}. Please try again.\")\n",
    "\n",
    "# Main program\n",
    "user_card_number = get_card_number()\n",
    "is_valid = luhn_algorithm(user_card_number)\n",
    "print(f\"Is {user_card_number} valid? {is_valid}\")"
   ]
  },
  {
   "cell_type": "code",
   "execution_count": null,
   "metadata": {},
   "outputs": [],
   "source": []
  }
 ],
 "metadata": {
  "kernelspec": {
   "display_name": "Python 3",
   "language": "python",
   "name": "python3"
  },
  "language_info": {
   "codemirror_mode": {
    "name": "ipython",
    "version": 3
   },
   "file_extension": ".py",
   "mimetype": "text/x-python",
   "name": "python",
   "nbconvert_exporter": "python",
   "pygments_lexer": "ipython3",
   "version": "3.12.3"
  }
 },
 "nbformat": 4,
 "nbformat_minor": 2
}
